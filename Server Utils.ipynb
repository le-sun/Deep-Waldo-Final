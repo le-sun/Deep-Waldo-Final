{
 "cells": [
  {
   "cell_type": "code",
   "execution_count": 1,
   "metadata": {
    "collapsed": true
   },
   "outputs": [],
   "source": [
    "import GPUtil\n",
    "import psutil"
   ]
  },
  {
   "cell_type": "code",
   "execution_count": 148,
   "metadata": {
    "collapsed": false
   },
   "outputs": [
    {
     "name": "stdout",
     "output_type": "stream",
     "text": [
      "| ID | Name                 | Serial        | UUID                                     || GPU temp. | GPU util. | Memory util. || Memory total | Memory used | Memory free || Display mode | Display active |\n",
      "-------------------------------------------------------------------------------------------------------------------------------------------------------------------------------------------------------------\n",
      "|  0 | Tesla V100-SXM2-16GB | 0320118057699 | GPU-f3690a52-fe3c-be8b-7b6f-dc80a84cf264 ||       37C |        0% |          44% ||      16160MB |      7090MB |      9070MB || Enabled      | Disabled       |\n",
      "|  1 | Tesla V100-SXM2-16GB | 0320118013216 | GPU-f6bb7f65-e915-ce19-ca92-7a9acd7aa584 ||       39C |        0% |           7% ||      16160MB |      1209MB |     14951MB || Enabled      | Disabled       |\n"
     ]
    }
   ],
   "source": [
    "GPUtil.showUtilization(all=True, attrList=None, useOldCode=False)"
   ]
  },
  {
   "cell_type": "code",
   "execution_count": 150,
   "metadata": {
    "collapsed": false
   },
   "outputs": [
    {
     "data": {
      "text/plain": [
       "svmem(total=25274781696, available=12749524992, percent=49.6, used=14919811072, free=10354970624, active=12996169728, inactive=945037312, buffers=68206592, cached=2326347776, shared=116477952)"
      ]
     },
     "execution_count": 150,
     "metadata": {},
     "output_type": "execute_result"
    }
   ],
   "source": [
    "psutil.virtual_memory()"
   ]
  },
  {
   "cell_type": "code",
   "execution_count": null,
   "metadata": {
    "collapsed": true
   },
   "outputs": [],
   "source": []
  }
 ],
 "metadata": {
  "anaconda-cloud": {},
  "kernelspec": {
   "display_name": "Python [conda root]",
   "language": "python",
   "name": "conda-root-py"
  },
  "language_info": {
   "codemirror_mode": {
    "name": "ipython",
    "version": 3
   },
   "file_extension": ".py",
   "mimetype": "text/x-python",
   "name": "python",
   "nbconvert_exporter": "python",
   "pygments_lexer": "ipython3",
   "version": "3.5.2"
  }
 },
 "nbformat": 4,
 "nbformat_minor": 1
}
